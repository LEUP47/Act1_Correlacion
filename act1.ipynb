{
 "cells": [
  {
   "cell_type": "code",
   "execution_count": null,
   "metadata": {},
   "outputs": [],
   "source": [
    "import pandas as pd\n",
    "import numpy as np\n",
    "import seaborn as sns\n",
    "import matplotlib.pyplot as plt\n",
    "from funpymodeling.exploratory import freq_tbl"
   ]
  },
  {
   "cell_type": "code",
   "execution_count": null,
   "metadata": {},
   "outputs": [],
   "source": [
    "data=pd.read_csv(\"diamonds.csv\")\n",
    "data"
   ]
  },
  {
   "cell_type": "code",
   "execution_count": null,
   "metadata": {},
   "outputs": [],
   "source": [
    "vn=data.isnull().sum()\n",
    "vn"
   ]
  },
  {
   "cell_type": "code",
   "execution_count": null,
   "metadata": {},
   "outputs": [],
   "source": [
    "data=data.fillna(method=\"bfill\")"
   ]
  },
  {
   "cell_type": "code",
   "execution_count": null,
   "metadata": {},
   "outputs": [],
   "source": [
    "vn=data.isnull().sum()\n",
    "vn"
   ]
  },
  {
   "cell_type": "code",
   "execution_count": null,
   "metadata": {},
   "outputs": [],
   "source": [
    "data.info()"
   ]
  },
  {
   "cell_type": "code",
   "execution_count": null,
   "metadata": {},
   "outputs": [],
   "source": [
    "cuanti=data.iloc[:,[0,4,5,6,7,8,9]]\n",
    "cuanti"
   ]
  },
  {
   "cell_type": "code",
   "execution_count": null,
   "metadata": {},
   "outputs": [],
   "source": [
    "cuali=data.iloc[:,[1,2,3]]\n",
    "cuali"
   ]
  },
  {
   "cell_type": "code",
   "execution_count": null,
   "metadata": {},
   "outputs": [],
   "source": [
    "fig=plt.figure(figsize=(15,8))\n",
    "cuanti.plot(kind='box',vert=False)\n",
    "plt.title(\"Valores atípicos del dataframe\")\n",
    "plt.show() #Dibujamos el diagrama"
   ]
  },
  {
   "cell_type": "code",
   "execution_count": null,
   "metadata": {},
   "outputs": [],
   "source": [
    "cuanti.info()"
   ]
  },
  {
   "cell_type": "code",
   "execution_count": null,
   "metadata": {},
   "outputs": [],
   "source": [
    "y=cuanti\n",
    "ls=y.mean() + 3*y.std()\n",
    "li=y.mean() - 3*y.std()\n",
    "print(\"Límite Superior Permitido\", ls)\n",
    "print(\"Límite Inferior Permitido\", li)"
   ]
  },
  {
   "cell_type": "code",
   "execution_count": null,
   "metadata": {},
   "outputs": [],
   "source": [
    "data1=cuanti[(y<=ls)&(y>=li)]\n",
    "data1"
   ]
  },
  {
   "cell_type": "code",
   "execution_count": null,
   "metadata": {},
   "outputs": [],
   "source": [
    "vn=data1.isnull().sum()\n",
    "vn"
   ]
  },
  {
   "cell_type": "code",
   "execution_count": null,
   "metadata": {},
   "outputs": [],
   "source": [
    "datac=data1.copy()\n",
    "datac=data1.fillna(round(data1.mean(),1))\n",
    "datac"
   ]
  },
  {
   "cell_type": "code",
   "execution_count": null,
   "metadata": {},
   "outputs": [],
   "source": [
    "vn=datac.isnull().sum()\n",
    "vn"
   ]
  },
  {
   "cell_type": "code",
   "execution_count": null,
   "metadata": {},
   "outputs": [],
   "source": [
    "# Unimos la columna 'cuantitativas' con el dataframe\n",
    "Datos_limpios = pd.concat([datac, cuali], axis=1)\n",
    "Datos_limpios"
   ]
  },
  {
   "cell_type": "markdown",
   "metadata": {},
   "source": [
    "***Correlación***"
   ]
  },
  {
   "cell_type": "code",
   "execution_count": null,
   "metadata": {},
   "outputs": [],
   "source": [
    "Corr_Factors=datac.corr()\n",
    "Corr_Factors1= abs(Corr_Factors)\n",
    "Corr_Factors1"
   ]
  },
  {
   "cell_type": "code",
   "execution_count": null,
   "metadata": {},
   "outputs": [],
   "source": [
    "###A)\n",
    "#Declaramos las variables dependientes e independientes para la regresión lineal\n",
    "Vars_Indep= datac[['carat']]\n",
    "Var_Dep= datac['price']\n",
    "\n",
    "#Se define model como la función de regresión lineal\n",
    "from sklearn.linear_model import LinearRegression\n",
    "model= LinearRegression()\n",
    "\n",
    "#Ajustamos el modelo con las variables antes declaradas\n",
    "model.fit(X=Vars_Indep, y=Var_Dep)\n",
    "\n",
    "#Verificamos los coeficientes obtenidos para el modelo ajustado\n",
    "model.__dict__\n",
    "\n",
    "#Corroboramos cual es el coeficiente de Correlación de nuestro modelo\n",
    "sns.scatterplot(x='carat', y='price', color=\"blue\", data=datac)\n",
    "coef_Deter=model.score(X=Vars_Indep, y=Var_Dep)\n",
    "coef_Correl=np.sqrt(coef_Deter)\n",
    "coef_Correl"
   ]
  },
  {
   "cell_type": "code",
   "execution_count": null,
   "metadata": {},
   "outputs": [],
   "source": [
    "###B)\n",
    "#Declaramos las variables dependientes e independientes para la regresión lineal\n",
    "Vars_IndepB= datac[['depth']]\n",
    "Var_DepB= datac['price']\n",
    "\n",
    "#Se define model como la función de regresión lineal\n",
    "from sklearn.linear_model import LinearRegression\n",
    "modelB= LinearRegression()\n",
    "\n",
    "#Ajustamos el modelo con las variables antes declaradas\n",
    "modelB.fit(X=Vars_IndepB, y=Var_DepB)\n",
    "\n",
    "#Verificamos los coeficientes obtenidos para el modelo ajustado\n",
    "modelB.__dict__\n",
    "\n",
    "#Corroboramos cual es el coeficiente de Correlación de nuestro modelo\n",
    "sns.scatterplot(x='depth', y='price', color=\"blue\", data=datac)\n",
    "coef_DeterB=modelB.score(X=Vars_IndepB, y=Var_DepB)\n",
    "coef_CorrelB=np.sqrt(coef_DeterB)\n",
    "coef_CorrelB"
   ]
  },
  {
   "cell_type": "code",
   "execution_count": null,
   "metadata": {},
   "outputs": [],
   "source": [
    "###C)\n",
    "#Declaramos las variables dependientes e independientes para la regresión lineal\n",
    "Vars_IndepC= datac[['table']]\n",
    "Var_DepC= datac['price']\n",
    "\n",
    "#Se define model como la función de regresión lineal\n",
    "from sklearn.linear_model import LinearRegression\n",
    "modelC= LinearRegression()\n",
    "\n",
    "#Ajustamos el modelo con las variables antes declaradas\n",
    "modelC.fit(X=Vars_IndepC, y=Var_DepC)\n",
    "\n",
    "#Verificamos los coeficientes obtenidos para el modelo ajustado\n",
    "modelC.__dict__\n",
    "\n",
    "#Corroboramos cual es el coeficiente de Correlación de nuestro modelo\n",
    "sns.scatterplot(x='table', y='price', color=\"blue\", data=datac)\n",
    "coef_DeterC=modelC.score(X=Vars_IndepC, y=Var_DepC)\n",
    "coef_CorrelC=np.sqrt(coef_DeterC)\n",
    "coef_CorrelC"
   ]
  },
  {
   "cell_type": "code",
   "execution_count": null,
   "metadata": {},
   "outputs": [],
   "source": [
    "#Declaramos las variables dependientes e independientes para la regresión lineal\n",
    "Vars_IndepMD= datac[[\"carat\",\"depth\"]]\n",
    "Var_DepMD= datac['price']\n",
    "\n",
    "#Se define model como la función de regresión lineal\n",
    "from sklearn.linear_model import LinearRegression\n",
    "modelMD= LinearRegression()\n",
    "\n",
    "#Ajustamos el modelo con las variables antes declaradas\n",
    "modelMD.fit(X=Vars_IndepMD, y=Var_DepMD)\n",
    "\n",
    "modelMD.__dict__\n",
    "\n",
    "coef_DeterMD=modelMD.score(X=Vars_IndepMD, y=Var_DepMD)\n",
    "coef_CorrelMD=np.sqrt(coef_DeterMD)\n",
    "coef_CorrelMD"
   ]
  },
  {
   "cell_type": "code",
   "execution_count": null,
   "metadata": {},
   "outputs": [],
   "source": [
    "#Declaramos las variables dependientes e independientes para la regresión lineal\n",
    "Vars_IndepME= datac[[\"carat\",\"table\"]]\n",
    "Var_DepME= datac['price']\n",
    "\n",
    "#Se define model como la función de regresión lineal\n",
    "from sklearn.linear_model import LinearRegression\n",
    "modelME= LinearRegression()\n",
    "\n",
    "#Ajustamos el modelo con las variables antes declaradas\n",
    "modelME.fit(X=Vars_IndepME, y=Var_DepME)\n",
    "\n",
    "modelME.__dict__\n",
    "\n",
    "coef_DeterME=modelME.score(X=Vars_IndepME, y=Var_DepME)\n",
    "coef_CorrelME=np.sqrt(coef_DeterME)\n",
    "coef_CorrelME"
   ]
  },
  {
   "cell_type": "code",
   "execution_count": null,
   "metadata": {},
   "outputs": [],
   "source": [
    "#Declaramos las variables dependientes e independientes para la regresión lineal\n",
    "Vars_IndepMF= datac[[\"depth\",\"table\"]]\n",
    "Var_DepMF= datac['price']\n",
    "\n",
    "#Se define model como la función de regresión lineal\n",
    "from sklearn.linear_model import LinearRegression\n",
    "modelMF= LinearRegression()\n",
    "\n",
    "#Ajustamos el modelo con las variables antes declaradas\n",
    "modelMF.fit(X=Vars_IndepMF, y=Var_DepMF)\n",
    "\n",
    "modelMF.__dict__\n",
    "\n",
    "coef_DeterMF=modelMF.score(X=Vars_IndepMF, y=Var_DepMF)\n",
    "coef_CorrelMF=np.sqrt(coef_DeterMF)\n",
    "coef_CorrelMF"
   ]
  },
  {
   "cell_type": "code",
   "execution_count": null,
   "metadata": {},
   "outputs": [],
   "source": [
    "#Declaramos las variables dependientes e independientes para la regresión lineal\n",
    "Vars_IndepMG= datac[[\"x\",\"y\",\"z\"]]\n",
    "Var_DepMG= datac['price']\n",
    "\n",
    "#Se define model como la función de regresión lineal\n",
    "from sklearn.linear_model import LinearRegression\n",
    "modelMG= LinearRegression()\n",
    "\n",
    "#Ajustamos el modelo con las variables antes declaradas\n",
    "modelMG.fit(X=Vars_IndepMG, y=Var_DepMG)\n",
    "\n",
    "modelMG.__dict__\n",
    "\n",
    "coef_DeterMG=modelMG.score(X=Vars_IndepMG, y=Var_DepMG)\n",
    "coef_CorrelMG=np.sqrt(coef_DeterMG)\n",
    "coef_CorrelMG"
   ]
  },
  {
   "cell_type": "code",
   "execution_count": null,
   "metadata": {},
   "outputs": [],
   "source": [
    "#Declaramos las variables dependientes e independientes para la regresión lineal\n",
    "Vars_IndepMH= datac[[\"x\",\"y\",\"z\", \"carat\", \"depth\"]]\n",
    "Var_DepMH= datac['price']\n",
    "\n",
    "#Se define model como la función de regresión lineal\n",
    "from sklearn.linear_model import LinearRegression\n",
    "modelMH= LinearRegression()\n",
    "\n",
    "#Ajustamos el modelo con las variables antes declaradas\n",
    "modelMH.fit(X=Vars_IndepMH, y=Var_DepMH)\n",
    "\n",
    "modelMH.__dict__\n",
    "\n",
    "coef_DeterMH=modelMH.score(X=Vars_IndepMH, y=Var_DepMH)\n",
    "coef_CorrelMH=np.sqrt(coef_DeterMH)\n",
    "coef_CorrelMH"
   ]
  },
  {
   "cell_type": "code",
   "execution_count": null,
   "metadata": {},
   "outputs": [],
   "source": [
    "#Declaramos las variables dependientes e independientes para la regresión lineal\n",
    "Vars_IndepMi= datac[[\"x\",\"y\",\"z\", \"carat\", \"depth\", \"table\"]]\n",
    "Var_DepMi= datac['price']\n",
    "\n",
    "#Se define model como la función de regresión lineal\n",
    "from sklearn.linear_model import LinearRegression\n",
    "modelMi= LinearRegression()\n",
    "\n",
    "#Ajustamos el modelo con las variables antes declaradas\n",
    "modelMi.fit(X=Vars_IndepMi, y=Var_DepMi)\n",
    "\n",
    "modelMi.__dict__\n",
    "\n",
    "coef_DeterMi=modelMi.score(X=Vars_IndepMi, y=Var_DepMi)\n",
    "coef_CorrelMi=np.sqrt(coef_DeterMi)\n",
    "coef_CorrelMi"
   ]
  }
 ],
 "metadata": {
  "kernelspec": {
   "display_name": "Python 3",
   "language": "python",
   "name": "python3"
  },
  "language_info": {
   "codemirror_mode": {
    "name": "ipython",
    "version": 3
   },
   "file_extension": ".py",
   "mimetype": "text/x-python",
   "name": "python",
   "nbconvert_exporter": "python",
   "pygments_lexer": "ipython3",
   "version": "3.12.4"
  }
 },
 "nbformat": 4,
 "nbformat_minor": 2
}
