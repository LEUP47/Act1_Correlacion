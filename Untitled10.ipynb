{
  "cells": [
    {
      "cell_type": "code",
      "execution_count": null,
      "metadata": {
        "colab": {
          "base_uri": "https://localhost:8080/"
        },
        "collapsed": true,
        "id": "Vfk6iPLwOqRW",
        "outputId": "89d78887-4be0-419a-ec2a-eeeef2c590f4"
      },
      "outputs": [],
      "source": [
        "#pip install funpymodeling\n",
        "import pandas as pd\n",
        "import numpy as np\n",
        "import matplotlib.pyplot as plt\n",
        "from funpymodeling.exploratory import freq_tbl\n",
        "import seaborn as sns"
      ]
    },
    {
      "cell_type": "markdown",
      "metadata": {
        "id": "4PX-OQgzRQqz"
      },
      "source": [
        "ELIMINAR VALORES NULOS"
      ]
    },
    {
      "cell_type": "code",
      "execution_count": null,
      "metadata": {
        "colab": {
          "base_uri": "https://localhost:8080/",
          "height": 398
        },
        "collapsed": true,
        "id": "ys6tH6sHPcZG",
        "outputId": "85a15eaa-c7a2-45ff-dea6-9501e4c614a1"
      },
      "outputs": [],
      "source": [
        "df=pd.read_csv(\"diamonds.csv\")\n",
        "df.isnull().sum()"
      ]
    },
    {
      "cell_type": "code",
      "execution_count": null,
      "metadata": {
        "colab": {
          "base_uri": "https://localhost:8080/",
          "height": 206
        },
        "collapsed": true,
        "id": "nvRurceqQpk2",
        "outputId": "192567a4-7823-4f6f-dc9b-8dc1f2486f12"
      },
      "outputs": [],
      "source": [
        "df.head()"
      ]
    },
    {
      "cell_type": "code",
      "execution_count": null,
      "metadata": {
        "colab": {
          "base_uri": "https://localhost:8080/",
          "height": 398
        },
        "collapsed": true,
        "id": "Li17WL9hQrYS",
        "outputId": "32f7860e-116e-4907-b89a-0877326f8e40"
      },
      "outputs": [],
      "source": [
        "#Eliminar valores nulos\n",
        "df[\"carat\"]=df[\"carat\"].fillna(round(df ['carat'].mean(),1))\n",
        "df[\"depth\"]=df[\"depth\"].fillna(round(df ['depth'].mean(),1))\n",
        "df[\"table\"]=df[\"table\"].fillna(round(df ['table'].mean(),1))\n",
        "df[\"price\"]=df[\"price\"].fillna(round(df ['price'].mean(),1))\n",
        "df[\"x\"]=df[\"x\"].fillna(round(df ['x'].mean(),1))\n",
        "df[\"y\"]=df[\"y\"].fillna(round(df ['y'].mean(),1))\n",
        "df[\"z\"]=df[\"z\"].fillna(round(df ['z'].mean(),1))\n",
        "df.isnull().sum()"
      ]
    },
    {
      "cell_type": "markdown",
      "metadata": {
        "id": "eYikYLGDRTU2"
      },
      "source": [
        "ELIMINAR OUTLIERS"
      ]
    },
    {
      "cell_type": "code",
      "execution_count": null,
      "metadata": {
        "id": "dXoUrsekRJrJ"
      },
      "outputs": [],
      "source": [
        "#Separar por columnas cualitativas y cuantitativas\n",
        "columnas_cualitativas = df.select_dtypes(include = 'object')\n",
        "columnas_cuantitativas = df.select_dtypes(include = ['int64', 'float64'])"
      ]
    },
    {
      "cell_type": "code",
      "execution_count": null,
      "metadata": {
        "colab": {
          "base_uri": "https://localhost:8080/",
          "height": 470
        },
        "collapsed": true,
        "id": "jJXt6QfbRcXF",
        "outputId": "b152ecc3-47ff-4feb-c709-8dd14c8d6c9a"
      },
      "outputs": [],
      "source": [
        "fig = plt.figure(figsize = (20, 10))\n",
        "columnas_cuantitativas.plot(kind = 'box', vert = False)\n",
        "plt.title(\"Valores atipicos\")\n",
        "plt.show()"
      ]
    },
    {
      "cell_type": "code",
      "execution_count": null,
      "metadata": {
        "colab": {
          "base_uri": "https://localhost:8080/"
        },
        "collapsed": true,
        "id": "Vu1uclIyRsXY",
        "outputId": "6309f12e-ef11-4e89-8ef4-671d8789eec2"
      },
      "outputs": [],
      "source": [
        "y = columnas_cuantitativas\n",
        "Limite_superior = y.mean() + 3*y.std()\n",
        "Limite_inferior = y.mean() - 3*y.std()\n",
        "print(\"Limite superior permitido\", Limite_superior)\n",
        "print(\"Limite inferior permitido\", Limite_inferior)"
      ]
    },
    {
      "cell_type": "code",
      "execution_count": null,
      "metadata": {
        "colab": {
          "base_uri": "https://localhost:8080/",
          "height": 304
        },
        "collapsed": true,
        "id": "qVLdZ6pmRwK1",
        "outputId": "0d485bb9-7fe7-41de-a25a-9fcb7cb169db"
      },
      "outputs": [],
      "source": [
        "#Filtrar solo por columnas dentro de los limites\n",
        "columnas_cuantitativas_sin_outliers = columnas_cuantitativas[(y <= Limite_superior) & (y >= Limite_inferior)]\n",
        "#Revisar valores nulos\n",
        "valores_nulos_cuantitativo = columnas_cuantitativas_sin_outliers.isnull().sum()\n",
        "valores_nulos_cuantitativo"
      ]
    },
    {
      "cell_type": "code",
      "execution_count": null,
      "metadata": {
        "colab": {
          "base_uri": "https://localhost:8080/",
          "height": 206
        },
        "id": "NaN8ekMORz7j",
        "outputId": "6a182834-ea60-49a5-c612-abb660ddff64"
      },
      "outputs": [],
      "source": [
        "#Hacer una copia del dataframe y rellenar los valores nulos con la media\n",
        "columnas_cuantitativas_limpio = columnas_cuantitativas_sin_outliers.copy()\n",
        "columnas_cuantitativas_limpio = columnas_cuantitativas_limpio.fillna(round(columnas_cuantitativas_sin_outliers.mean(), 1))\n",
        "\n",
        "#Se juntan las columnas cualitativas con las cuantitativas\n",
        "df_limpio = pd.concat([columnas_cuantitativas_limpio, columnas_cualitativas], axis = 1)\n",
        "df_limpio.head()"
      ]
    },
    {
      "cell_type": "code",
      "execution_count": null,
      "metadata": {
        "colab": {
          "base_uri": "https://localhost:8080/",
          "height": 398
        },
        "collapsed": true,
        "id": "B1n6mdtTSA7j",
        "outputId": "1a6b9490-710f-4bc9-8b51-1c2602fc2c87"
      },
      "outputs": [],
      "source": [
        "#Comprobamos que no existan valores nulos\n",
        "df_limpio.isnull().sum()"
      ]
    },
    {
      "cell_type": "markdown",
      "metadata": {
        "id": "HLIj_ifCSHBd"
      },
      "source": [
        "CORRELACIÓN"
      ]
    },
    {
      "cell_type": "code",
      "execution_count": null,
      "metadata": {
        "colab": {
          "base_uri": "https://localhost:8080/",
          "height": 269
        },
        "collapsed": true,
        "id": "K2FgSTuPSKkn",
        "outputId": "0f52cabd-eb52-4dc5-963e-7572e68527d2"
      },
      "outputs": [],
      "source": [
        "Corr_Factors=columnas_cuantitativas_limpio.corr()\n",
        "Corr_Factors1= abs(Corr_Factors)\n",
        "Corr_Factors1"
      ]
    },
    {
      "cell_type": "code",
      "execution_count": null,
      "metadata": {
        "colab": {
          "base_uri": "https://localhost:8080/",
          "height": 467
        },
        "id": "ErmTHZCuSbcP",
        "outputId": "f1e8b932-0072-4f18-dba9-58ce09f3f8da"
      },
      "outputs": [],
      "source": [
        "###A)\n",
        "#Declaramos las variables dependientes e independientes para la regresión lineal\n",
        "Vars_Indep= columnas_cuantitativas_limpio[['carat']]\n",
        "Var_Dep= columnas_cuantitativas_limpio['price']\n",
        "\n",
        "#Se define model como la función de regresión lineal\n",
        "from sklearn.linear_model import LinearRegression\n",
        "model= LinearRegression()\n",
        "\n",
        "#Ajustamos el modelo con las variables antes declaradas\n",
        "model.fit(X=Vars_Indep, y=Var_Dep)\n",
        "\n",
        "#Verificamos los coeficientes obtenidos para el modelo ajustado\n",
        "model.__dict__\n",
        "\n",
        "#Corroboramos cual es el coeficiente de Correlación de nuestro modelo\n",
        "sns.scatterplot(x='carat', y='price', color=\"blue\", data=columnas_cuantitativas_limpio)\n",
        "coef_Deter=model.score(X=Vars_Indep, y=Var_Dep)\n",
        "coef_Correl=np.sqrt(coef_Deter)\n",
        "coef_Correl"
      ]
    },
    {
      "cell_type": "code",
      "execution_count": null,
      "metadata": {
        "colab": {
          "base_uri": "https://localhost:8080/",
          "height": 467
        },
        "collapsed": true,
        "id": "mdv6XzXNS3td",
        "outputId": "3ce29507-377c-40ba-90a7-67fc03570e82"
      },
      "outputs": [],
      "source": [
        "###B)\n",
        "#Declaramos las variables dependientes e independientes para la regresión lineal\n",
        "Vars_IndepB= columnas_cuantitativas_limpio[['depth']]\n",
        "Var_DepB= columnas_cuantitativas_limpio['price']\n",
        "\n",
        "#Se define model como la función de regresión lineal\n",
        "from sklearn.linear_model import LinearRegression\n",
        "modelB= LinearRegression()\n",
        "\n",
        "#Ajustamos el modelo con las variables antes declaradas\n",
        "modelB.fit(X=Vars_IndepB, y=Var_DepB)\n",
        "\n",
        "#Verificamos los coeficientes obtenidos para el modelo ajustado\n",
        "modelB.__dict__\n",
        "\n",
        "#Corroboramos cual es el coeficiente de Correlación de nuestro modelo\n",
        "sns.scatterplot(x='depth', y='price', color=\"blue\", data=columnas_cuantitativas_limpio)\n",
        "coef_DeterB=modelB.score(X=Vars_IndepB, y=Var_DepB)\n",
        "coef_CorrelB=np.sqrt(coef_DeterB)\n",
        "coef_CorrelB"
      ]
    },
    {
      "cell_type": "code",
      "execution_count": null,
      "metadata": {
        "colab": {
          "base_uri": "https://localhost:8080/",
          "height": 467
        },
        "id": "ECvunY6AS-7A",
        "outputId": "d10e1a85-2bde-4c2c-dfe3-df5290eb91f0"
      },
      "outputs": [],
      "source": [
        "###C)\n",
        "#Declaramos las variables dependientes e independientes para la regresión lineal\n",
        "Vars_IndepC= columnas_cuantitativas_limpio[['table']]\n",
        "Var_DepC= columnas_cuantitativas_limpio['price']\n",
        "\n",
        "#Se define model como la función de regresión lineal\n",
        "from sklearn.linear_model import LinearRegression\n",
        "modelC= LinearRegression()\n",
        "\n",
        "#Ajustamos el modelo con las variables antes declaradas\n",
        "modelC.fit(X=Vars_IndepC, y=Var_DepC)\n",
        "\n",
        "#Verificamos los coeficientes obtenidos para el modelo ajustado\n",
        "modelC.__dict__\n",
        "\n",
        "#Corroboramos cual es el coeficiente de Correlación de nuestro modelo\n",
        "sns.scatterplot(x='table', y='price', color=\"blue\", data=columnas_cuantitativas_limpio)\n",
        "coef_DeterC=modelC.score(X=Vars_IndepC, y=Var_DepC)\n",
        "coef_CorrelC=np.sqrt(coef_DeterC)\n",
        "coef_CorrelC"
      ]
    },
    {
      "cell_type": "code",
      "execution_count": null,
      "metadata": {
        "colab": {
          "base_uri": "https://localhost:8080/"
        },
        "id": "ZibEJrywTD0n",
        "outputId": "13cb49a8-1d43-4535-c503-c00b82825e5c"
      },
      "outputs": [],
      "source": [
        "#Declaramos las variables dependientes e independientes para la regresión lineal\n",
        "Vars_IndepMD= columnas_cuantitativas_limpio[[\"carat\",\"depth\"]]\n",
        "Var_DepMD= columnas_cuantitativas_limpio['price']\n",
        "\n",
        "#Se define model como la función de regresión lineal\n",
        "from sklearn.linear_model import LinearRegression\n",
        "modelMD= LinearRegression()\n",
        "\n",
        "#Ajustamos el modelo con las variables antes declaradas\n",
        "modelMD.fit(X=Vars_IndepMD, y=Var_DepMD)\n",
        "\n",
        "modelMD.__dict__\n",
        "\n",
        "coef_DeterMD=modelMD.score(X=Vars_IndepMD, y=Var_DepMD)\n",
        "coef_CorrelMD=np.sqrt(coef_DeterMD)\n",
        "coef_CorrelMD"
      ]
    },
    {
      "cell_type": "code",
      "execution_count": null,
      "metadata": {
        "colab": {
          "base_uri": "https://localhost:8080/"
        },
        "collapsed": true,
        "id": "5n8k8G6mVbOI",
        "outputId": "274a804a-b93e-43ad-e4f9-5287db2227ed"
      },
      "outputs": [],
      "source": [
        "#Declaramos las variables dependientes e independientes para la regresión lineal\n",
        "Vars_IndepME= columnas_cuantitativas_limpio[[\"carat\",\"table\"]]\n",
        "Var_DepME= columnas_cuantitativas_limpio['price']\n",
        "\n",
        "#Se define model como la función de regresión lineal\n",
        "from sklearn.linear_model import LinearRegression\n",
        "modelME= LinearRegression()\n",
        "\n",
        "#Ajustamos el modelo con las variables antes declaradas\n",
        "modelME.fit(X=Vars_IndepME, y=Var_DepME)\n",
        "\n",
        "modelME.__dict__\n",
        "\n",
        "coef_DeterME=modelME.score(X=Vars_IndepME, y=Var_DepME)\n",
        "coef_CorrelME=np.sqrt(coef_DeterME)\n",
        "coef_CorrelME"
      ]
    },
    {
      "cell_type": "code",
      "execution_count": null,
      "metadata": {
        "colab": {
          "base_uri": "https://localhost:8080/"
        },
        "collapsed": true,
        "id": "6ARcfsrYVvgI",
        "outputId": "70aa0378-5a4b-4058-8aaa-cc139d55136b"
      },
      "outputs": [],
      "source": [
        "#Declaramos las variables dependientes e independientes para la regresión lineal\n",
        "Vars_IndepMF= columnas_cuantitativas_limpio[[\"depth\",\"table\"]]\n",
        "Var_DepMF= columnas_cuantitativas_limpio['price']\n",
        "\n",
        "#Se define model como la función de regresión lineal\n",
        "from sklearn.linear_model import LinearRegression\n",
        "modelMF= LinearRegression()\n",
        "\n",
        "#Ajustamos el modelo con las variables antes declaradas\n",
        "modelMF.fit(X=Vars_IndepMF, y=Var_DepMF)\n",
        "\n",
        "modelMF.__dict__\n",
        "\n",
        "coef_DeterMF=modelMF.score(X=Vars_IndepMF, y=Var_DepMF)\n",
        "coef_CorrelMF=np.sqrt(coef_DeterMF)\n",
        "coef_CorrelMF"
      ]
    },
    {
      "cell_type": "code",
      "execution_count": null,
      "metadata": {
        "colab": {
          "base_uri": "https://localhost:8080/"
        },
        "collapsed": true,
        "id": "3pVSWsKyWlK-",
        "outputId": "153e16c6-22a5-40c2-db8b-3f7846e40a8c"
      },
      "outputs": [],
      "source": [
        "#Declaramos las variables dependientes e independientes para la regresión lineal\n",
        "Vars_IndepMG= columnas_cuantitativas_limpio[[\"x\",\"y\",\"z\"]]\n",
        "Var_DepMG= columnas_cuantitativas_limpio['price']\n",
        "\n",
        "#Se define model como la función de regresión lineal\n",
        "from sklearn.linear_model import LinearRegression\n",
        "modelMG= LinearRegression()\n",
        "\n",
        "#Ajustamos el modelo con las variables antes declaradas\n",
        "modelMG.fit(X=Vars_IndepMG, y=Var_DepMG)\n",
        "\n",
        "modelMG.__dict__\n",
        "\n",
        "coef_DeterMG=modelMG.score(X=Vars_IndepMG, y=Var_DepMG)\n",
        "coef_CorrelMG=np.sqrt(coef_DeterMG)\n",
        "coef_CorrelMG"
      ]
    },
    {
      "cell_type": "code",
      "execution_count": null,
      "metadata": {
        "colab": {
          "base_uri": "https://localhost:8080/"
        },
        "collapsed": true,
        "id": "aDdXfkJJXMB8",
        "outputId": "da239cce-6aeb-44b8-d0f4-50110fa37915"
      },
      "outputs": [],
      "source": [
        "#Declaramos las variables dependientes e independientes para la regresión lineal\n",
        "Vars_IndepMH= columnas_cuantitativas_limpio[[\"x\",\"y\",\"z\", \"carat\", \"depth\"]]\n",
        "Var_DepMH= columnas_cuantitativas_limpio['price']\n",
        "\n",
        "#Se define model como la función de regresión lineal\n",
        "from sklearn.linear_model import LinearRegression\n",
        "modelMH= LinearRegression()\n",
        "\n",
        "#Ajustamos el modelo con las variables antes declaradas\n",
        "modelMH.fit(X=Vars_IndepMH, y=Var_DepMH)\n",
        "\n",
        "modelMH.__dict__\n",
        "\n",
        "coef_DeterMH=modelMH.score(X=Vars_IndepMH, y=Var_DepMH)\n",
        "coef_CorrelMH=np.sqrt(coef_DeterMH)\n",
        "coef_CorrelMH"
      ]
    },
    {
      "cell_type": "code",
      "execution_count": null,
      "metadata": {
        "colab": {
          "base_uri": "https://localhost:8080/"
        },
        "collapsed": true,
        "id": "CynzGSpmXkXM",
        "outputId": "b6574c0d-5968-44ac-f9c9-9697ff85b955"
      },
      "outputs": [],
      "source": [
        "#Declaramos las variables dependientes e independientes para la regresión lineal\n",
        "Vars_IndepMi= columnas_cuantitativas_limpio[[\"x\",\"y\",\"z\", \"carat\", \"depth\", \"table\"]]\n",
        "Var_DepMi= columnas_cuantitativas_limpio['price']\n",
        "\n",
        "#Se define model como la función de regresión lineal\n",
        "from sklearn.linear_model import LinearRegression\n",
        "modelMi= LinearRegression()\n",
        "\n",
        "#Ajustamos el modelo con las variables antes declaradas\n",
        "modelMi.fit(X=Vars_IndepMi, y=Var_DepMi)\n",
        "\n",
        "modelMi.__dict__\n",
        "\n",
        "coef_DeterMi=modelMi.score(X=Vars_IndepMi, y=Var_DepMi)\n",
        "coef_CorrelMi=np.sqrt(coef_DeterMi)\n",
        "coef_CorrelMi"
      ]
    }
  ],
  "metadata": {
    "colab": {
      "provenance": []
    },
    "kernelspec": {
      "display_name": "Python 3",
      "name": "python3"
    },
    "language_info": {
      "name": "python"
    }
  },
  "nbformat": 4,
  "nbformat_minor": 0
}
